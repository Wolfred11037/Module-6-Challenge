{
 "cells": [
  {
   "cell_type": "code",
   "execution_count": null,
   "id": "db583439",
   "metadata": {},
   "outputs": [],
   "source": [
    "# Dependencies and Setup\n",
    "import hvplot.pandas\n",
    "import pandas as pd\n",
    "import requests\n",
    "from pathlib import Path\n",
    "\n",
    "# Import API key\n",
    "from api_keys import geoapify_key"
   ]
  },
  {
   "cell_type": "code",
   "execution_count": null,
   "id": "11921d35",
   "metadata": {},
   "outputs": [],
   "source": [
    "# Load the CSV file created in Part 1 into a Pandas DataFrame\n",
    "csv_file = Path(\"output_data/cities.csv\")\n",
    "city_data_df = pd.read_csv(csv_file)\n",
    "\n",
    "# Display sample data\n",
    "city_data_df.head()"
   ]
  },
  {
   "cell_type": "code",
   "execution_count": null,
   "id": "1b1b2e12",
   "metadata": {},
   "outputs": [],
   "source": [
    "# Step 1: Create a map that displays a point for every city in the city_data_df DataFrame. The size of the point should be the humidity in each city.\n",
    "\n",
    "# Import hvplot\n",
    "import hvplot.pandas\n",
    "\n",
    "# Configure the map plot\n",
    "map_plot = city_data_df.hvplot.scatter(x='Lng', y='Lat', size='Humidity', alpha=0.7, color='blue', hover_cols=['City', 'Humidity'],\n",
    "                                       xlim=(-180, 180), ylim=(-90, 90), title=\"City Humidity\", \n",
    "                                       xlabel=\"Longitude\", ylabel=\"Latitude\", frame_width=800, frame_height=500)\n",
    "\n",
    "# Display the map\n",
    "map_plot\n"
   ]
  },
  {
   "cell_type": "code",
   "execution_count": null,
   "id": "94717f6c",
   "metadata": {},
   "outputs": [],
   "source": [
    "# Step 2: Narrow down the city_data_df DataFrame to find your ideal weather condition\n",
    "\n",
    "# Define the criteria for your ideal weather conditions\n",
    "ideal_weather_df = city_data_df.loc[\n",
    "    (city_data_df[\"Max Temp\"] >= 21) & (city_data_df[\"Max Temp\"] <= 27) & (city_data_df[\"Wind Speed\"] < 4.5)\n",
    "]\n",
    "\n",
    "# Drop any rows with null values\n",
    "ideal_weather_df = ideal_weather_df.dropna()\n",
    "\n",
    "# Display sample data\n",
    "ideal_weather_df.head()\n"
   ]
  },
  {
   "cell_type": "code",
   "execution_count": null,
   "id": "0c2b53bd",
   "metadata": {},
   "outputs": [],
   "source": [
    "# Step 3: Create a new DataFrame called hotel_df.\n",
    "\n",
    "# Use the Pandas copy function to create DataFrame called hotel_df to store the city, country, coordinates, and humidity\n",
    "hotel_df = ideal_weather_df.copy()\n",
    "\n",
    "# Add an empty column, \"Hotel Name,\" to the DataFrame so you can store the hotel found using the Geoapify API\n",
    "hotel_df[\"Hotel Name\"] = \"\"\n",
    "\n",
    "# Display sample data\n",
    "hotel_df.head()\n"
   ]
  },
  {
   "cell_type": "code",
   "execution_count": null,
   "id": "c654239a",
   "metadata": {},
   "outputs": [],
   "source": [
    "# Step 4: For each city, use the Geoapify API to find the first hotel located within 10,000 meters of your coordinates.\n",
    "\n",
    "# Set parameters to search for a hotel\n",
    "radius = 10000  # Set the radius to 10,000 meters\n",
    "params = {\n",
    "    \"type\": \"accommodation\", \n",
    "    \"limit\": 1, \n",
    "}\n",
    "\n",
    "print(\"Starting hotel search\")\n",
    "\n",
    "# Iterate through the hotel_df DataFrame\n",
    "for index, row in hotel_df.iterrows():\n",
    "    # Get latitude and longitude from the DataFrame\n",
    "    latitude = row[\"Lat\"]\n",
    "    longitude = row[\"Lng\"]\n",
    "\n",
    "    params[\"filter\"] = {\"around\": f\"{latitude},{longitude},{radius}\"}\n",
    "    params[\"bias\"] = f\"proximity:{longitude},{latitude}\"\n",
    "\n",
    "    # Set the base URL\n",
    "    base_url = \"https://api.geoapify.com/v2/places\"\n",
    "\n",
    "    response = requests.get(base_url, params=params).json()\n",
    "\n",
    "    try:\n",
    "        hotel_name = response[\"features\"][0][\"properties\"][\"name\"]\n",
    "        hotel_df.loc[index, \"Hotel Name\"] = hotel_name\n",
    "    except (KeyError, IndexError):\n",
    "        hotel_df.loc[index, \"Hotel Name\"] = \"No hotel found\"\n",
    "\n",
    "    print(f\"{hotel_df.loc[index, 'City']} - nearest hotel: {hotel_df.loc[index, 'Hotel Name']}\")\n",
    "\n",
    "# Display sample data\n",
    "hotel_df.head()\n"
   ]
  },
  {
   "cell_type": "code",
   "execution_count": null,
   "id": "11168a95",
   "metadata": {},
   "outputs": [],
   "source": [
    "# Step 5: Add the hotel name and the country as additional information in the hover message for each city in the map.\n",
    "\n",
    "# Import hvplot\n",
    "import hvplot.pandas\n",
    "\n",
    "# Configure the map plot\n",
    "map_plot = hotel_df.hvplot.scatter(x='Lng', y='Lat', size='Humidity', alpha=0.7, color='blue', hover_cols=['City', 'Humidity', 'Hotel Name', 'Country'],\n",
    "                                   xlim=(-180, 180), ylim=(-90, 90), title=\"City Humidity with Nearest Hotel Information\",\n",
    "                                   xlabel=\"Longitude\", ylabel=\"Latitude\", frame_width=800, frame_height=500)\n",
    "\n",
    "# Display the map\n",
    "map_plot\n"
   ]
  },
  {
   "cell_type": "code",
   "execution_count": null,
   "id": "fbf4976e",
   "metadata": {},
   "outputs": [],
   "source": []
  }
 ],
 "metadata": {
  "kernelspec": {
   "display_name": "Python 3 (ipykernel)",
   "language": "python",
   "name": "python3"
  },
  "language_info": {
   "codemirror_mode": {
    "name": "ipython",
    "version": 3
   },
   "file_extension": ".py",
   "mimetype": "text/x-python",
   "name": "python",
   "nbconvert_exporter": "python",
   "pygments_lexer": "ipython3",
   "version": "3.11.3"
  }
 },
 "nbformat": 4,
 "nbformat_minor": 5
}
